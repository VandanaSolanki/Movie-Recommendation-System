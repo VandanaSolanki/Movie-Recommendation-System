{
  "nbformat": 4,
  "nbformat_minor": 0,
  "metadata": {
    "colab": {
      "provenance": []
    },
    "kernelspec": {
      "name": "python3",
      "display_name": "Python 3"
    },
    "language_info": {
      "name": "python"
    }
  },
  "cells": [
    {
      "cell_type": "markdown",
      "source": [
        "compress size of  file a picklel(.pkl) file"
      ],
      "metadata": {
        "id": "OZ1goNEmMyp2"
      }
    },
    {
      "cell_type": "code",
      "execution_count": 1,
      "metadata": {
        "colab": {
          "base_uri": "https://localhost:8080/"
        },
        "id": "B0wOyBX2MxME",
        "outputId": "e17323cc-6484-4c4d-adf6-22ed70370cd2"
      },
      "outputs": [
        {
          "output_type": "stream",
          "name": "stdout",
          "text": [
            "Looking in indexes: https://pypi.org/simple, https://us-python.pkg.dev/colab-wheels/public/simple/\n",
            "Collecting bz2file\n",
            "  Downloading bz2file-0.98.tar.gz (11 kB)\n",
            "  Preparing metadata (setup.py) ... \u001b[?25l\u001b[?25hdone\n",
            "Building wheels for collected packages: bz2file\n",
            "  Building wheel for bz2file (setup.py) ... \u001b[?25l\u001b[?25hdone\n",
            "  Created wheel for bz2file: filename=bz2file-0.98-py3-none-any.whl size=6881 sha256=661ef1741f4dfb8fa21bb9f3c1748953d4bb2bd26efa807122d83f1cff04b65f\n",
            "  Stored in directory: /root/.cache/pip/wheels/d9/b8/e1/45ef4a93bf3ae5a374c13809abc1f9e676f41d7603277e953b\n",
            "Successfully built bz2file\n",
            "Installing collected packages: bz2file\n",
            "Successfully installed bz2file-0.98\n"
          ]
        }
      ],
      "source": [
        "!pip install bz2file"
      ]
    },
    {
      "cell_type": "code",
      "source": [
        "import bz2file as bz2\n",
        "import pickle\n",
        "import _pickle as cPickle"
      ],
      "metadata": {
        "id": "1golxC4uNIuS"
      },
      "execution_count": 3,
      "outputs": []
    },
    {
      "cell_type": "markdown",
      "source": [
        "Compress .pkl file to .pbz2"
      ],
      "metadata": {
        "id": "hpGjtEXFX1-J"
      }
    },
    {
      "cell_type": "code",
      "source": [
        "# Saves the \"data\" with the \"title\" and adds the .pickle\n",
        "def full_pickle(title, data):\n",
        " pikd = open(title + '.pickle', 'wb')\n",
        " pickle.dump(data, pikd)\n",
        " pikd.close()"
      ],
      "metadata": {
        "id": "Sx1QFvqmNQ1r"
      },
      "execution_count": 5,
      "outputs": []
    },
    {
      "cell_type": "code",
      "source": [
        "def compressed_pickle(title, data):\n",
        "  with bz2.BZ2File(title + '.pbz2', 'w') as f: \n",
        "    cPickle.dump(data, f)"
      ],
      "metadata": {
        "id": "JsnRxRsuOFUL"
      },
      "execution_count": 8,
      "outputs": []
    },
    {
      "cell_type": "markdown",
      "source": [
        "/content/similarity.pkl"
      ],
      "metadata": {
        "id": "yeokyy8BO5EY"
      }
    },
    {
      "cell_type": "code",
      "source": [
        "compressed_pickle('similarity', 'wb') \n"
      ],
      "metadata": {
        "id": "D8_Xbze0V0TZ"
      },
      "execution_count": 12,
      "outputs": []
    },
    {
      "cell_type": "markdown",
      "source": [
        "Decompress .pbz2 file to .pkl"
      ],
      "metadata": {
        "id": "dSuI9MpRX7DI"
      }
    },
    {
      "cell_type": "code",
      "source": [
        "def decompress_pickle(file):\n",
        " data = bz2.BZ2File(file, 'rb')\n",
        " data = cPickle.load(data)\n",
        " return data"
      ],
      "metadata": {
        "id": "cGlnj5hdWlyR"
      },
      "execution_count": 14,
      "outputs": []
    },
    {
      "cell_type": "code",
      "source": [
        "data = decompress_pickle('similarity.pbz2') "
      ],
      "metadata": {
        "id": "JS3L2KvaXexG"
      },
      "execution_count": 15,
      "outputs": []
    },
    {
      "cell_type": "code",
      "source": [],
      "metadata": {
        "id": "cqPClsYtXt2Z"
      },
      "execution_count": null,
      "outputs": []
    }
  ]
}